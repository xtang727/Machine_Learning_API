{
 "cells": [
  {
   "cell_type": "markdown",
   "id": "4357638b",
   "metadata": {},
   "source": [
    "## Load Data"
   ]
  },
  {
   "cell_type": "code",
   "execution_count": 1,
   "id": "b5df496d",
   "metadata": {},
   "outputs": [],
   "source": [
    "import os\n",
    "import pathlib\n",
    "import pandas as pd\n",
    "import random"
   ]
  },
  {
   "cell_type": "code",
   "execution_count": 2,
   "id": "6105d58d",
   "metadata": {},
   "outputs": [
    {
     "name": "stdout",
     "output_type": "stream",
     "text": [
      "BASE_DIR is /Users/XiaoboTang/Public/ml_api\n"
     ]
    }
   ],
   "source": [
    "USE_PROJECT_ROOT = True\n",
    "BASE_DIR = pathlib.Path().resolve()\n",
    "if USE_PROJECT_ROOT:\n",
    "    BASE_DIR = BASE_DIR.parent\n",
    "    \n",
    "DATASET_DIR = BASE_DIR / \"datasets\"\n",
    "EXPORT_DIR = DATASET_DIR / \"exports\"\n",
    "\n",
    "DATASET_CSV_PATH = EXPORT_DIR / 'spam-dataset.csv'\n",
    "TRAINING_DATA_PATH = EXPORT_DIR / 'spam-training-data.pkl'\n",
    "\n",
    "print(\"BASE_DIR is\", BASE_DIR)"
   ]
  },
  {
   "cell_type": "code",
   "execution_count": 3,
   "id": "31ad9fc4",
   "metadata": {},
   "outputs": [],
   "source": [
    "RUN_DATASET_PREPARE = False\n",
    "if RUN_DATASET_PREPARE:\n",
    "    SOURCE_NB = pathlib.Path('Download, View, Combine & Save Datasets.ipynb')\n",
    "    if SOURCE_NB.exists():\n",
    "        %run './{SOURCE_NB}'\n",
    "    else:\n",
    "        print(\"The data preparation notebook does not exist.\")"
   ]
  },
  {
   "cell_type": "code",
   "execution_count": 4,
   "id": "3bb7c24e",
   "metadata": {},
   "outputs": [],
   "source": [
    "if not DATASET_CSV_PATH.exists():\n",
    "    raise Exception(f\"{DATASET_CSV_PATH} not found.\")"
   ]
  },
  {
   "cell_type": "code",
   "execution_count": 5,
   "id": "3e648019",
   "metadata": {},
   "outputs": [],
   "source": [
    "df = pd.read_csv(str(DATASET_CSV_PATH))"
   ]
  },
  {
   "cell_type": "code",
   "execution_count": 6,
   "id": "ede170db",
   "metadata": {},
   "outputs": [
    {
     "data": {
      "text/html": [
       "<div>\n",
       "<style scoped>\n",
       "    .dataframe tbody tr th:only-of-type {\n",
       "        vertical-align: middle;\n",
       "    }\n",
       "\n",
       "    .dataframe tbody tr th {\n",
       "        vertical-align: top;\n",
       "    }\n",
       "\n",
       "    .dataframe thead th {\n",
       "        text-align: right;\n",
       "    }\n",
       "</style>\n",
       "<table border=\"1\" class=\"dataframe\">\n",
       "  <thead>\n",
       "    <tr style=\"text-align: right;\">\n",
       "      <th></th>\n",
       "      <th>label</th>\n",
       "      <th>text</th>\n",
       "      <th>source</th>\n",
       "    </tr>\n",
       "  </thead>\n",
       "  <tbody>\n",
       "    <tr>\n",
       "      <th>0</th>\n",
       "      <td>ham</td>\n",
       "      <td>Go until jurong point, crazy.. Available only ...</td>\n",
       "      <td>sms-spam</td>\n",
       "    </tr>\n",
       "    <tr>\n",
       "      <th>1</th>\n",
       "      <td>ham</td>\n",
       "      <td>Ok lar... Joking wif u oni...</td>\n",
       "      <td>sms-spam</td>\n",
       "    </tr>\n",
       "    <tr>\n",
       "      <th>2</th>\n",
       "      <td>spam</td>\n",
       "      <td>Free entry in 2 a wkly comp to win FA Cup fina...</td>\n",
       "      <td>sms-spam</td>\n",
       "    </tr>\n",
       "  </tbody>\n",
       "</table>\n",
       "</div>"
      ],
      "text/plain": [
       "  label                                               text    source\n",
       "0   ham  Go until jurong point, crazy.. Available only ...  sms-spam\n",
       "1   ham                      Ok lar... Joking wif u oni...  sms-spam\n",
       "2  spam  Free entry in 2 a wkly comp to win FA Cup fina...  sms-spam"
      ]
     },
     "execution_count": 6,
     "metadata": {},
     "output_type": "execute_result"
    }
   ],
   "source": [
    "df.head(3)"
   ]
  },
  {
   "cell_type": "markdown",
   "id": "1576362c",
   "metadata": {},
   "source": [
    "## Convert Lists & Verify Indices"
   ]
  },
  {
   "cell_type": "code",
   "execution_count": 7,
   "id": "0f5160c5",
   "metadata": {},
   "outputs": [],
   "source": [
    "labels = df['label'].tolist()\n",
    "texts = df['text'].tolist()"
   ]
  },
  {
   "cell_type": "code",
   "execution_count": 8,
   "id": "efe06304",
   "metadata": {},
   "outputs": [],
   "source": [
    "labels_legend = {'ham': 0, 'spam': 1}\n",
    "labels_legend_inverted = {f'{v}': k for k,v in labels_legend.items()}"
   ]
  },
  {
   "cell_type": "markdown",
   "id": "b81950e7",
   "metadata": {},
   "source": [
    "Alternatively, a faster way if there are more than 2 labels."
   ]
  },
  {
   "cell_type": "code",
   "execution_count": 9,
   "id": "a2eec617",
   "metadata": {},
   "outputs": [],
   "source": [
    "legend = {f\"{x}\": i for i, x in enumerate(list(set(labels)))}\n",
    "legend_inverted = {f'{v}': k for k,v in legend.items()}"
   ]
  },
  {
   "cell_type": "code",
   "execution_count": 10,
   "id": "da6af53f",
   "metadata": {},
   "outputs": [],
   "source": [
    "labels_as_int = [labels_legend[str(x)] for x in labels]"
   ]
  },
  {
   "cell_type": "code",
   "execution_count": 11,
   "id": "06110f78",
   "metadata": {},
   "outputs": [
    {
     "name": "stdout",
     "output_type": "stream",
     "text": [
      "Random Index 5073\n"
     ]
    }
   ],
   "source": [
    "random_idx = random.randint(0, len(labels))\n",
    "print('Random Index', random_idx)\n",
    "\n",
    "assert texts[random_idx] == df.iloc[random_idx].text\n",
    "assert labels[random_idx] == df.iloc[random_idx].label\n",
    "assert labels_legend_inverted[str(labels_as_int[random_idx])] == df.iloc[random_idx].label"
   ]
  },
  {
   "cell_type": "markdown",
   "id": "e7307804",
   "metadata": {},
   "source": [
    "## Tokenize Text & Padding Sequence"
   ]
  },
  {
   "cell_type": "code",
   "execution_count": 12,
   "id": "37cc8456",
   "metadata": {},
   "outputs": [],
   "source": [
    "from tensorflow.keras.preprocessing.text import Tokenizer"
   ]
  },
  {
   "cell_type": "code",
   "execution_count": 13,
   "id": "0324e384",
   "metadata": {},
   "outputs": [],
   "source": [
    "MAX_NUM_WORDS = 280"
   ]
  },
  {
   "cell_type": "code",
   "execution_count": 14,
   "id": "641d4ad8",
   "metadata": {},
   "outputs": [
    {
     "name": "stdout",
     "output_type": "stream",
     "text": [
      "Found 12077 unique tokens.\n"
     ]
    }
   ],
   "source": [
    "tokenizer = Tokenizer(num_words=MAX_NUM_WORDS)\n",
    "tokenizer.fit_on_texts(texts)\n",
    "sequences = tokenizer.texts_to_sequences(texts)\n",
    "word_index = tokenizer.word_index\n",
    "\n",
    "print(f'Found {len(word_index)} unique tokens.')"
   ]
  },
  {
   "cell_type": "code",
   "execution_count": 15,
   "id": "c99cbfa4",
   "metadata": {},
   "outputs": [],
   "source": [
    "assert len(sequences) == len(texts) == len(labels_as_int)"
   ]
  },
  {
   "cell_type": "code",
   "execution_count": 16,
   "id": "724a6a8e",
   "metadata": {},
   "outputs": [],
   "source": [
    "from tensorflow.keras.preprocessing.sequence import pad_sequences"
   ]
  },
  {
   "cell_type": "code",
   "execution_count": 17,
   "id": "0decd54b",
   "metadata": {},
   "outputs": [],
   "source": [
    "MAX_SEQUENCE_LENGTH = 280"
   ]
  },
  {
   "cell_type": "code",
   "execution_count": 18,
   "id": "de0de13f",
   "metadata": {},
   "outputs": [],
   "source": [
    "X = pad_sequences(sequences, maxlen=MAX_SEQUENCE_LENGTH)"
   ]
  },
  {
   "cell_type": "markdown",
   "id": "875e0e3e",
   "metadata": {},
   "source": [
    "## Vectorize Categorial Labels"
   ]
  },
  {
   "cell_type": "code",
   "execution_count": 19,
   "id": "a0bb3895",
   "metadata": {},
   "outputs": [],
   "source": [
    "import numpy as np\n",
    "from tensorflow.keras.utils import to_categorical"
   ]
  },
  {
   "cell_type": "code",
   "execution_count": 20,
   "id": "f5e0dc99",
   "metadata": {},
   "outputs": [],
   "source": [
    "labels_as_int_array = np.asarray(labels_as_int)\n",
    "y = to_categorical(labels_as_int_array)"
   ]
  },
  {
   "cell_type": "markdown",
   "id": "2934bda5",
   "metadata": {},
   "source": [
    "## Split & Export Vectorized Datasets"
   ]
  },
  {
   "cell_type": "code",
   "execution_count": 21,
   "id": "1b5c0f21",
   "metadata": {},
   "outputs": [],
   "source": [
    "from sklearn.model_selection import train_test_split"
   ]
  },
  {
   "cell_type": "code",
   "execution_count": 22,
   "id": "2c421e79",
   "metadata": {},
   "outputs": [],
   "source": [
    "X_train, X_test, y_train, y_test = train_test_split(X, y, test_size=0.33, random_state=42)"
   ]
  },
  {
   "cell_type": "code",
   "execution_count": 23,
   "id": "85efc7a0",
   "metadata": {},
   "outputs": [],
   "source": [
    "import pickle"
   ]
  },
  {
   "cell_type": "code",
   "execution_count": 24,
   "id": "1a44189d",
   "metadata": {},
   "outputs": [],
   "source": [
    "training_data = {\n",
    "    'X_train': X_train,\n",
    "    'X_test': X_test,\n",
    "    'y_train': y_train,\n",
    "    'y_test': y_test,\n",
    "    'max_words': MAX_NUM_WORDS,\n",
    "    'max_sequence': MAX_SEQUENCE_LENGTH,\n",
    "    'legend': labels_legend,\n",
    "    'labels_legend_inverted': labels_legend_inverted,\n",
    "    \"tokenizer\": tokenizer,\n",
    "}"
   ]
  },
  {
   "cell_type": "code",
   "execution_count": 25,
   "id": "5d9bcf1c",
   "metadata": {},
   "outputs": [],
   "source": [
    "with open(TRAINING_DATA_PATH, 'wb') as f:\n",
    "    pickle.dump(training_data, f)"
   ]
  },
  {
   "cell_type": "code",
   "execution_count": 26,
   "id": "9b5f27ad",
   "metadata": {},
   "outputs": [],
   "source": [
    "data = {}\n",
    "\n",
    "with open(TRAINING_DATA_PATH, 'rb') as f:\n",
    "    data = pickle.load(f)"
   ]
  }
 ],
 "metadata": {
  "kernelspec": {
   "display_name": "Python 3 (ipykernel)",
   "language": "python",
   "name": "python3"
  },
  "language_info": {
   "codemirror_mode": {
    "name": "ipython",
    "version": 3
   },
   "file_extension": ".py",
   "mimetype": "text/x-python",
   "name": "python",
   "nbconvert_exporter": "python",
   "pygments_lexer": "ipython3",
   "version": "3.9.7"
  }
 },
 "nbformat": 4,
 "nbformat_minor": 5
}
