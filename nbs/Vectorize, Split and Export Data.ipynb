{
 "cells": [
  {
   "cell_type": "markdown",
   "id": "8b967cb1",
   "metadata": {},
   "source": [
    "# Vectorize, Split and Export Data"
   ]
  },
  {
   "cell_type": "markdown",
   "id": "4357638b",
   "metadata": {},
   "source": [
    "## Read Data, Map Labels & Verify Indices"
   ]
  },
  {
   "cell_type": "code",
   "execution_count": 54,
   "id": "d003359d",
   "metadata": {},
   "outputs": [],
   "source": [
    "import pathlib\n",
    "import pandas as pd\n",
    "import random\n",
    "\n",
    "BASE_DIR = pathlib.Path().resolve().parent\n",
    "\n",
    "DATASET_DIR = BASE_DIR / 'datasets'\n",
    "EXPORT_DIR = DATASET_DIR / 'exports'\n",
    "EXPORT_DIR.mkdir(exist_ok=True, parents=True)\n",
    "SPAM_DATASET_PATH = EXPORT_DIR / 'spam-dataset.csv'\n",
    "\n",
    "METADATA_EXPORT_PATH = EXPORT_DIR / 'spam-metadata.pkl'\n",
    "TOKENIZER_EXPORT_PATH = EXPORT_DIR / 'spam-tokenizer.json'"
   ]
  },
  {
   "cell_type": "code",
   "execution_count": 55,
   "id": "3e648019",
   "metadata": {},
   "outputs": [],
   "source": [
    "df = pd.read_csv(SPAM_DATASET_PATH)"
   ]
  },
  {
   "cell_type": "code",
   "execution_count": 3,
   "id": "ede170db",
   "metadata": {},
   "outputs": [
    {
     "data": {
      "text/html": [
       "<div>\n",
       "<style scoped>\n",
       "    .dataframe tbody tr th:only-of-type {\n",
       "        vertical-align: middle;\n",
       "    }\n",
       "\n",
       "    .dataframe tbody tr th {\n",
       "        vertical-align: top;\n",
       "    }\n",
       "\n",
       "    .dataframe thead th {\n",
       "        text-align: right;\n",
       "    }\n",
       "</style>\n",
       "<table border=\"1\" class=\"dataframe\">\n",
       "  <thead>\n",
       "    <tr style=\"text-align: right;\">\n",
       "      <th></th>\n",
       "      <th>label</th>\n",
       "      <th>text</th>\n",
       "      <th>source</th>\n",
       "    </tr>\n",
       "  </thead>\n",
       "  <tbody>\n",
       "    <tr>\n",
       "      <th>0</th>\n",
       "      <td>ham</td>\n",
       "      <td>Go until jurong point, crazy.. Available only ...</td>\n",
       "      <td>sms-spam</td>\n",
       "    </tr>\n",
       "    <tr>\n",
       "      <th>1</th>\n",
       "      <td>ham</td>\n",
       "      <td>Ok lar... Joking wif u oni...</td>\n",
       "      <td>sms-spam</td>\n",
       "    </tr>\n",
       "    <tr>\n",
       "      <th>2</th>\n",
       "      <td>spam</td>\n",
       "      <td>Free entry in 2 a wkly comp to win FA Cup fina...</td>\n",
       "      <td>sms-spam</td>\n",
       "    </tr>\n",
       "  </tbody>\n",
       "</table>\n",
       "</div>"
      ],
      "text/plain": [
       "  label                                               text    source\n",
       "0   ham  Go until jurong point, crazy.. Available only ...  sms-spam\n",
       "1   ham                      Ok lar... Joking wif u oni...  sms-spam\n",
       "2  spam  Free entry in 2 a wkly comp to win FA Cup fina...  sms-spam"
      ]
     },
     "execution_count": 3,
     "metadata": {},
     "output_type": "execute_result"
    }
   ],
   "source": [
    "df.head(3)"
   ]
  },
  {
   "cell_type": "code",
   "execution_count": 4,
   "id": "0f5160c5",
   "metadata": {},
   "outputs": [],
   "source": [
    "labels = df['label'].tolist()\n",
    "texts = df['text'].tolist()"
   ]
  },
  {
   "cell_type": "code",
   "execution_count": 5,
   "id": "efe06304",
   "metadata": {},
   "outputs": [
    {
     "data": {
      "text/plain": [
       "{'0': 'ham', '1': 'spam'}"
      ]
     },
     "execution_count": 5,
     "metadata": {},
     "output_type": "execute_result"
    }
   ],
   "source": [
    "label_legend = {'ham':0, 'spam': 1}\n",
    "label_legend_inverted = {f'{v}': k for k,v in label_legend.items()}\n",
    "label_legend_inverted"
   ]
  },
  {
   "cell_type": "code",
   "execution_count": 6,
   "id": "da6af53f",
   "metadata": {},
   "outputs": [
    {
     "data": {
      "text/plain": [
       "[0, 0, 1, 0, 0, 1, 0, 0, 1, 1]"
      ]
     },
     "execution_count": 6,
     "metadata": {},
     "output_type": "execute_result"
    }
   ],
   "source": [
    "label_as_int = [label_legend[x] for x in labels]\n",
    "label_as_int[:10]"
   ]
  },
  {
   "cell_type": "code",
   "execution_count": 12,
   "id": "06110f78",
   "metadata": {},
   "outputs": [],
   "source": [
    "random_idx = random.randint(0, len(labels))\n",
    "\n",
    "assert texts[random_idx] == df.iloc[random_idx].text\n",
    "assert labels[random_idx] == df.iloc[random_idx].label\n",
    "assert label_legend_inverted[str(label_as_int[random_idx])] == df.iloc[random_idx].label"
   ]
  },
  {
   "cell_type": "markdown",
   "id": "e7307804",
   "metadata": {},
   "source": [
    "## Tokenize Text & Padding Sequence"
   ]
  },
  {
   "cell_type": "code",
   "execution_count": 14,
   "id": "37cc8456",
   "metadata": {},
   "outputs": [],
   "source": [
    "from tensorflow.keras.preprocessing.text import Tokenizer"
   ]
  },
  {
   "cell_type": "code",
   "execution_count": 15,
   "id": "0324e384",
   "metadata": {},
   "outputs": [],
   "source": [
    "MAX_NUM_WORDS = 280"
   ]
  },
  {
   "cell_type": "code",
   "execution_count": 16,
   "id": "641d4ad8",
   "metadata": {},
   "outputs": [],
   "source": [
    "tokenizer = Tokenizer(num_words=MAX_NUM_WORDS)\n",
    "tokenizer.fit_on_texts(texts)\n",
    "sequences = tokenizer.texts_to_sequences(texts)"
   ]
  },
  {
   "cell_type": "code",
   "execution_count": 19,
   "id": "8a53a19d",
   "metadata": {},
   "outputs": [
    {
     "data": {
      "text/plain": [
       "[[55, 66, 10, 123, 143, 204, 169, 77, 68, 187],\n",
       " [64, 8],\n",
       " [59, 10, 25, 4, 2, 211, 95, 2, 2, 110, 104]]"
      ]
     },
     "execution_count": 19,
     "metadata": {},
     "output_type": "execute_result"
    }
   ],
   "source": [
    "sequences[:3]"
   ]
  },
  {
   "cell_type": "code",
   "execution_count": 35,
   "id": "32de404b",
   "metadata": {},
   "outputs": [],
   "source": [
    "word_index = tokenizer.word_index\n",
    "#word_index"
   ]
  },
  {
   "cell_type": "code",
   "execution_count": 36,
   "id": "724a6a8e",
   "metadata": {},
   "outputs": [],
   "source": [
    "from tensorflow.keras.preprocessing.sequence import pad_sequences"
   ]
  },
  {
   "cell_type": "code",
   "execution_count": 37,
   "id": "0decd54b",
   "metadata": {},
   "outputs": [],
   "source": [
    "MAX_SEQ_LENGTH = 300"
   ]
  },
  {
   "cell_type": "code",
   "execution_count": 38,
   "id": "de0de13f",
   "metadata": {},
   "outputs": [],
   "source": [
    "X = pad_sequences(sequences, maxlen=MAX_SEQ_LENGTH)"
   ]
  },
  {
   "cell_type": "code",
   "execution_count": 40,
   "id": "d61d10f3",
   "metadata": {},
   "outputs": [
    {
     "data": {
      "text/plain": [
       "array([  0,   0,   0,   0,   0,   0,   0,   0,   0,   0,   0,   0,   0,\n",
       "         0,   0,   0,   0,   0,   0,   0,   0,   0,   0,   0,   0,   0,\n",
       "         0,   0,   0,   0,   0,   0,   0,   0,   0,   0,   0,   0,   0,\n",
       "         0,   0,   0,   0,   0,   0,   0,   0,   0,   0,   0,   0,   0,\n",
       "         0,   0,   0,   0,   0,   0,   0,   0,   0,   0,   0,   0,   0,\n",
       "         0,   0,   0,   0,   0,   0,   0,   0,   0,   0,   0,   0,   0,\n",
       "         0,   0,   0,   0,   0,   0,   0,   0,   0,   0,   0,   0,   0,\n",
       "         0,   0,   0,   0,   0,   0,   0,   0,   0,   0,   0,   0,   0,\n",
       "         0,   0,   0,   0,   0,   0,   0,   0,   0,   0,   0,   0,   0,\n",
       "         0,   0,   0,   0,   0,   0,   0,   0,   0,   0,   0,   0,   0,\n",
       "         0,   0,   0,   0,   0,   0,   0,   0,   0,   0,   0,   0,   0,\n",
       "         0,   0,   0,   0,   0,   0,   0,   0,   0,   0,   0,   0,   0,\n",
       "         0,   0,   0,   0,   0,   0,   0,   0,   0,   0,   0,   0,   0,\n",
       "         0,   0,   0,   0,   0,   0,   0,   0,   0,   0,   0,   0,   0,\n",
       "         0,   0,   0,   0,   0,   0,   0,   0,   0,   0,   0,   0,   0,\n",
       "         0,   0,   0,   0,   0,   0,   0,   0,   0,   0,   0,   0,   0,\n",
       "         0,   0,   0,   0,   0,   0,   0,   0,   0,   0,   0,   0,   0,\n",
       "         0,   0,   0,   0,   0,   0,   0,   0,   0,   0,   0,   0,   0,\n",
       "         0,   0,   0,   0,   0,   0,   0,   0,   0,   0,   0,   0,   0,\n",
       "         0,   0,   0,   0,   0,   0,   0,   0,   0,   0,   0,   0,   0,\n",
       "         0,   0,   0,   0,   0,   0,   0,   0,   0,   0,   0,   0,   0,\n",
       "         0,   0,   0,   0,   0,   0,   0,   0,   0,   0,   0,   0,   0,\n",
       "         0,   0,   0,   0,  55,  66,  10, 123, 143, 204, 169,  77,  68,\n",
       "       187], dtype=int32)"
      ]
     },
     "execution_count": 40,
     "metadata": {},
     "output_type": "execute_result"
    }
   ],
   "source": [
    "X[0]"
   ]
  },
  {
   "cell_type": "markdown",
   "id": "875e0e3e",
   "metadata": {},
   "source": [
    "## Vectorize Categorial Labels"
   ]
  },
  {
   "cell_type": "code",
   "execution_count": 41,
   "id": "a0bb3895",
   "metadata": {},
   "outputs": [],
   "source": [
    "import numpy as np\n",
    "from tensorflow.keras.utils import to_categorical"
   ]
  },
  {
   "cell_type": "code",
   "execution_count": 44,
   "id": "f5e0dc99",
   "metadata": {},
   "outputs": [],
   "source": [
    "labels_as_int_array = np.asarray(label_as_int)\n",
    "Y = to_categorical(labels_as_int_array)"
   ]
  },
  {
   "cell_type": "code",
   "execution_count": 45,
   "id": "ea44a8ac",
   "metadata": {},
   "outputs": [
    {
     "data": {
      "text/plain": [
       "array([[1., 0.],\n",
       "       [1., 0.],\n",
       "       [0., 1.]], dtype=float32)"
      ]
     },
     "execution_count": 45,
     "metadata": {},
     "output_type": "execute_result"
    }
   ],
   "source": [
    "Y[:3] # Here postion 0 ON signals ham"
   ]
  },
  {
   "cell_type": "markdown",
   "id": "2934bda5",
   "metadata": {},
   "source": [
    "## Split & Export Vectorized Datasets"
   ]
  },
  {
   "cell_type": "code",
   "execution_count": 49,
   "id": "1b5c0f21",
   "metadata": {},
   "outputs": [],
   "source": [
    "from sklearn.model_selection import train_test_split"
   ]
  },
  {
   "cell_type": "code",
   "execution_count": 50,
   "id": "2c421e79",
   "metadata": {},
   "outputs": [],
   "source": [
    "x_train, x_test, y_train, y_test = train_test_split(X, Y, test_size=0.33, random_state=42)"
   ]
  },
  {
   "cell_type": "code",
   "execution_count": 51,
   "id": "85efc7a0",
   "metadata": {},
   "outputs": [],
   "source": [
    "import pickle"
   ]
  },
  {
   "cell_type": "code",
   "execution_count": 56,
   "id": "1a44189d",
   "metadata": {},
   "outputs": [
    {
     "data": {
      "text/plain": [
       "1090335"
      ]
     },
     "execution_count": 56,
     "metadata": {},
     "output_type": "execute_result"
    }
   ],
   "source": [
    "training_data = {\n",
    "    'x_train': x_train,\n",
    "    'x_test': x_test,\n",
    "    'y_train': y_train,\n",
    "    'y_test': y_test,\n",
    "    'max_words': MAX_NUM_WORDS,\n",
    "    'max_seq_length': MAX_SEQ_LENGTH,\n",
    "    'label_legend': label_legend,\n",
    "    'label_legend_inverted': label_legend_inverted,\n",
    "}\n",
    "\n",
    "tokenizer_json = tokenizer.to_json()\n",
    "TOKENIZER_EXPORT_PATH.write_text(tokenizer_json)"
   ]
  },
  {
   "cell_type": "code",
   "execution_count": 57,
   "id": "5d9bcf1c",
   "metadata": {},
   "outputs": [],
   "source": [
    "with open(METADATA_EXPORT_PATH, 'wb') as f:\n",
    "    pickle.dump(training_data, f)"
   ]
  }
 ],
 "metadata": {
  "kernelspec": {
   "display_name": "Python 3 (ipykernel)",
   "language": "python",
   "name": "python3"
  },
  "language_info": {
   "codemirror_mode": {
    "name": "ipython",
    "version": 3
   },
   "file_extension": ".py",
   "mimetype": "text/x-python",
   "name": "python",
   "nbconvert_exporter": "python",
   "pygments_lexer": "ipython3",
   "version": "3.9.7"
  }
 },
 "nbformat": 4,
 "nbformat_minor": 5
}
