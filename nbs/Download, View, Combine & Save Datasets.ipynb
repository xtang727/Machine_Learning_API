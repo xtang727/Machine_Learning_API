{
 "cells": [
  {
   "cell_type": "markdown",
   "id": "2e6037ff",
   "metadata": {},
   "source": [
    "## Download Zip Datasets"
   ]
  },
  {
   "cell_type": "code",
   "execution_count": 60,
   "id": "ce491e9c",
   "metadata": {},
   "outputs": [],
   "source": [
    "import pathlib\n",
    "\n",
    "BASE_DIR = pathlib.Path().resolve().parent\n",
    "\n",
    "DATASET_DIR = BASE_DIR / 'datasets'\n",
    "EXPORT_DIR = DATASET_DIR / 'exports'\n",
    "EXPORT_DIR.mkdir(exist_ok=True, parents=True)\n",
    "SPAM_DATASET_PATH = EXPORT_DIR / 'spam-dataset.csv'\n",
    "ZIPS_DIR = DATASET_DIR / 'zips'\n",
    "ZIPS_DIR.mkdir(exist_ok=True, parents=True)\n",
    "\n",
    "SPAM_SMS_ZIP_PATH = ZIPS_DIR / 'sms-spam-dataset.zip'\n",
    "SPAM_YOUTUBE_ZIP_PATH = ZIPS_DIR / 'youtube-spam-dataset.zip'"
   ]
  },
  {
   "cell_type": "code",
   "execution_count": 14,
   "id": "84a16836",
   "metadata": {},
   "outputs": [],
   "source": [
    "SMS_SPAM_ZIP = 'https://archive.ics.uci.edu/ml/machine-learning-databases/00228/smsspamcollection.zip'\n",
    "YOUTUBE_SPAM_ZIP = 'https://archive.ics.uci.edu/ml/machine-learning-databases/00380/YouTube-Spam-Collection-v1.zip'"
   ]
  },
  {
   "cell_type": "code",
   "execution_count": 15,
   "id": "9b55f4e9",
   "metadata": {
    "scrolled": true
   },
   "outputs": [
    {
     "name": "stdout",
     "output_type": "stream",
     "text": [
      "  % Total    % Received % Xferd  Average Speed   Time    Time     Time  Current\n",
      "                                 Dload  Upload   Total   Spent    Left  Speed\n",
      "100  198k  100  198k    0     0   136k      0  0:00:01  0:00:01 --:--:--  136k\n",
      "  % Total    % Received % Xferd  Average Speed   Time    Time     Time  Current\n",
      "                                 Dload  Upload   Total   Spent    Left  Speed\n",
      "100  159k  100  159k    0     0   285k      0 --:--:-- --:--:-- --:--:--  285k\n"
     ]
    }
   ],
   "source": [
    "!curl $SMS_SPAM_ZIP -o $SPAM_SMS_ZIP_PATH\n",
    "!curl $YOUTUBE_SPAM_ZIP -o $SPAM_YOUTUBE_ZIP_PATH"
   ]
  },
  {
   "cell_type": "markdown",
   "id": "7508cc2a",
   "metadata": {},
   "source": [
    "## Unzip Datasets"
   ]
  },
  {
   "cell_type": "code",
   "execution_count": 16,
   "id": "5be57e74",
   "metadata": {},
   "outputs": [],
   "source": [
    "SPAM_CLASSIFIER_DIR = DATASET_DIR / 'spam-classifier'\n",
    "SMS_SPAM_DIR = SPAM_CLASSIFIER_DIR / 'sms-spam'\n",
    "YOUTUBE_SPAM_DIR = SPAM_CLASSIFIER_DIR / 'youtube-spam'\n",
    "\n",
    "SMS_SPAM_DIR.mkdir(exist_ok=True, parents=True)\n",
    "YOUTUBE_SPAM_DIR.mkdir(exist_ok=True, parents=True)"
   ]
  },
  {
   "cell_type": "code",
   "execution_count": 19,
   "id": "78fa21f7",
   "metadata": {},
   "outputs": [
    {
     "name": "stdout",
     "output_type": "stream",
     "text": [
      "Archive:  /Users/XiaoboTang/Public/ml_api/datasets/zips/sms-spam-dataset.zip\n",
      "  inflating: /Users/XiaoboTang/Public/ml_api/datasets/spam-classifier/sms-spam/SMSSpamCollection  \n",
      "  inflating: /Users/XiaoboTang/Public/ml_api/datasets/spam-classifier/sms-spam/readme  \n",
      "Archive:  /Users/XiaoboTang/Public/ml_api/datasets/zips/youtube-spam-dataset.zip\n",
      "  inflating: /Users/XiaoboTang/Public/ml_api/datasets/spam-classifier/youtube-spam/Youtube01-Psy.csv  \n",
      "   creating: /Users/XiaoboTang/Public/ml_api/datasets/spam-classifier/youtube-spam/__MACOSX/\n",
      "  inflating: /Users/XiaoboTang/Public/ml_api/datasets/spam-classifier/youtube-spam/__MACOSX/._Youtube01-Psy.csv  \n",
      "  inflating: /Users/XiaoboTang/Public/ml_api/datasets/spam-classifier/youtube-spam/Youtube02-KatyPerry.csv  \n",
      "  inflating: /Users/XiaoboTang/Public/ml_api/datasets/spam-classifier/youtube-spam/__MACOSX/._Youtube02-KatyPerry.csv  \n",
      "  inflating: /Users/XiaoboTang/Public/ml_api/datasets/spam-classifier/youtube-spam/Youtube03-LMFAO.csv  \n",
      "  inflating: /Users/XiaoboTang/Public/ml_api/datasets/spam-classifier/youtube-spam/__MACOSX/._Youtube03-LMFAO.csv  \n",
      "  inflating: /Users/XiaoboTang/Public/ml_api/datasets/spam-classifier/youtube-spam/Youtube04-Eminem.csv  \n",
      "  inflating: /Users/XiaoboTang/Public/ml_api/datasets/spam-classifier/youtube-spam/__MACOSX/._Youtube04-Eminem.csv  \n",
      "  inflating: /Users/XiaoboTang/Public/ml_api/datasets/spam-classifier/youtube-spam/Youtube05-Shakira.csv  \n",
      "  inflating: /Users/XiaoboTang/Public/ml_api/datasets/spam-classifier/youtube-spam/__MACOSX/._Youtube05-Shakira.csv  \n"
     ]
    }
   ],
   "source": [
    "!unzip -o $SPAM_SMS_ZIP_PATH -d $SMS_SPAM_DIR\n",
    "!unzip -o $SPAM_YOUTUBE_ZIP_PATH -d $YOUTUBE_SPAM_DIR"
   ]
  },
  {
   "cell_type": "markdown",
   "id": "49eb2f14",
   "metadata": {},
   "source": [
    "## View & Combine Datasets"
   ]
  },
  {
   "cell_type": "markdown",
   "id": "512d7a9b",
   "metadata": {},
   "source": [
    "### SMS Datasets"
   ]
  },
  {
   "cell_type": "code",
   "execution_count": 23,
   "id": "635b8e6c",
   "metadata": {},
   "outputs": [
    {
     "name": "stdout",
     "output_type": "stream",
     "text": [
      "/Users/XiaoboTang/Public/ml_api/datasets/spam-classifier/sms-spam/readme\n",
      "/Users/XiaoboTang/Public/ml_api/datasets/spam-classifier/sms-spam/SMSSpamCollection\n",
      "ham\tGo until jurong point, crazy.. Available only \n"
     ]
    }
   ],
   "source": [
    "# What files & which one is the text file?\n",
    "'''\n",
    "for path in SMS_SPAM_DIR.glob('*'):\n",
    "    print(path)\n",
    "    try:\n",
    "        print(path.read_text()[:50])\n",
    "    except:\n",
    "        pass\n",
    "'''"
   ]
  },
  {
   "cell_type": "code",
   "execution_count": 26,
   "id": "50c30a24",
   "metadata": {},
   "outputs": [
    {
     "data": {
      "text/plain": [
       "'ham\\tGo until jurong point, crazy.. Available only in bugis n great world la e buffet... Cine there g'"
      ]
     },
     "execution_count": 26,
     "metadata": {},
     "output_type": "execute_result"
    }
   ],
   "source": [
    "sms_spam_input_path = SMS_SPAM_DIR / 'SMSSpamCollection'\n",
    "sms_spam_input_path.read_text()[:100] # results show this file is a tsv"
   ]
  },
  {
   "cell_type": "code",
   "execution_count": 27,
   "id": "5172ff96",
   "metadata": {},
   "outputs": [
    {
     "name": "stdout",
     "output_type": "stream",
     "text": [
      "/Users/XiaoboTang/Public/ml_api/datasets/spam-classifier/youtube-spam/Youtube03-LMFAO.csv\n",
      "COMMENT_ID,AUTHOR,DATE,CONTENT,CLASS\n",
      "z13uwn2heqndt\n",
      "/Users/XiaoboTang/Public/ml_api/datasets/spam-classifier/youtube-spam/Youtube04-Eminem.csv\n",
      "COMMENT_ID,AUTHOR,DATE,CONTENT,CLASS\n",
      "z12rwfnyyrbse\n",
      "/Users/XiaoboTang/Public/ml_api/datasets/spam-classifier/youtube-spam/Youtube05-Shakira.csv\n",
      "COMMENT_ID,AUTHOR,DATE,CONTENT,CLASS\n",
      "z13lgffb5w3dd\n",
      "/Users/XiaoboTang/Public/ml_api/datasets/spam-classifier/youtube-spam/Youtube02-KatyPerry.csv\n",
      "COMMENT_ID,AUTHOR,DATE,CONTENT,CLASS\n",
      "z12pgdhovmrkt\n",
      "/Users/XiaoboTang/Public/ml_api/datasets/spam-classifier/youtube-spam/__MACOSX\n",
      "/Users/XiaoboTang/Public/ml_api/datasets/spam-classifier/youtube-spam/Youtube01-Psy.csv\n",
      "COMMENT_ID,AUTHOR,DATE,CONTENT,CLASS\n",
      "LZQPQhLyRh80U\n"
     ]
    }
   ],
   "source": [
    "# What files & which one is the text file?\n",
    "'''\n",
    "for path in YOUTUBE_SPAM_DIR.glob('*'):\n",
    "    print(path)\n",
    "    try:\n",
    "        print(path.read_text()[:50])\n",
    "    except:\n",
    "        pass\n",
    "'''"
   ]
  },
  {
   "cell_type": "code",
   "execution_count": 28,
   "id": "871609bd",
   "metadata": {},
   "outputs": [],
   "source": [
    "import pandas as pd"
   ]
  },
  {
   "cell_type": "code",
   "execution_count": 33,
   "id": "2b837a36",
   "metadata": {},
   "outputs": [
    {
     "data": {
      "text/html": [
       "<div>\n",
       "<style scoped>\n",
       "    .dataframe tbody tr th:only-of-type {\n",
       "        vertical-align: middle;\n",
       "    }\n",
       "\n",
       "    .dataframe tbody tr th {\n",
       "        vertical-align: top;\n",
       "    }\n",
       "\n",
       "    .dataframe thead th {\n",
       "        text-align: right;\n",
       "    }\n",
       "</style>\n",
       "<table border=\"1\" class=\"dataframe\">\n",
       "  <thead>\n",
       "    <tr style=\"text-align: right;\">\n",
       "      <th></th>\n",
       "      <th>0</th>\n",
       "      <th>1</th>\n",
       "    </tr>\n",
       "  </thead>\n",
       "  <tbody>\n",
       "    <tr>\n",
       "      <th>0</th>\n",
       "      <td>ham</td>\n",
       "      <td>Go until jurong point, crazy.. Available only ...</td>\n",
       "    </tr>\n",
       "    <tr>\n",
       "      <th>1</th>\n",
       "      <td>ham</td>\n",
       "      <td>Ok lar... Joking wif u oni...</td>\n",
       "    </tr>\n",
       "    <tr>\n",
       "      <th>2</th>\n",
       "      <td>spam</td>\n",
       "      <td>Free entry in 2 a wkly comp to win FA Cup fina...</td>\n",
       "    </tr>\n",
       "  </tbody>\n",
       "</table>\n",
       "</div>"
      ],
      "text/plain": [
       "      0                                                  1\n",
       "0   ham  Go until jurong point, crazy.. Available only ...\n",
       "1   ham                      Ok lar... Joking wif u oni...\n",
       "2  spam  Free entry in 2 a wkly comp to win FA Cup fina..."
      ]
     },
     "execution_count": 33,
     "metadata": {},
     "output_type": "execute_result"
    }
   ],
   "source": [
    "sms_df = pd.read_csv(sms_spam_input_path, sep='\\t', header=None)\n",
    "sms_df.head(3)"
   ]
  },
  {
   "cell_type": "code",
   "execution_count": 52,
   "id": "75a0763e",
   "metadata": {},
   "outputs": [
    {
     "data": {
      "text/html": [
       "<div>\n",
       "<style scoped>\n",
       "    .dataframe tbody tr th:only-of-type {\n",
       "        vertical-align: middle;\n",
       "    }\n",
       "\n",
       "    .dataframe tbody tr th {\n",
       "        vertical-align: top;\n",
       "    }\n",
       "\n",
       "    .dataframe thead th {\n",
       "        text-align: right;\n",
       "    }\n",
       "</style>\n",
       "<table border=\"1\" class=\"dataframe\">\n",
       "  <thead>\n",
       "    <tr style=\"text-align: right;\">\n",
       "      <th></th>\n",
       "      <th>label</th>\n",
       "      <th>text</th>\n",
       "      <th>source</th>\n",
       "    </tr>\n",
       "  </thead>\n",
       "  <tbody>\n",
       "    <tr>\n",
       "      <th>5567</th>\n",
       "      <td>spam</td>\n",
       "      <td>This is the 2nd time we have tried 2 contact u...</td>\n",
       "      <td>sms-spam</td>\n",
       "    </tr>\n",
       "    <tr>\n",
       "      <th>5568</th>\n",
       "      <td>ham</td>\n",
       "      <td>Will ü b going to esplanade fr home?</td>\n",
       "      <td>sms-spam</td>\n",
       "    </tr>\n",
       "    <tr>\n",
       "      <th>5569</th>\n",
       "      <td>ham</td>\n",
       "      <td>Pity, * was in mood for that. So...any other s...</td>\n",
       "      <td>sms-spam</td>\n",
       "    </tr>\n",
       "    <tr>\n",
       "      <th>5570</th>\n",
       "      <td>ham</td>\n",
       "      <td>The guy did some bitching but I acted like i'd...</td>\n",
       "      <td>sms-spam</td>\n",
       "    </tr>\n",
       "    <tr>\n",
       "      <th>5571</th>\n",
       "      <td>ham</td>\n",
       "      <td>Rofl. Its true to its name</td>\n",
       "      <td>sms-spam</td>\n",
       "    </tr>\n",
       "  </tbody>\n",
       "</table>\n",
       "</div>"
      ],
      "text/plain": [
       "     label                                               text    source\n",
       "5567  spam  This is the 2nd time we have tried 2 contact u...  sms-spam\n",
       "5568   ham               Will ü b going to esplanade fr home?  sms-spam\n",
       "5569   ham  Pity, * was in mood for that. So...any other s...  sms-spam\n",
       "5570   ham  The guy did some bitching but I acted like i'd...  sms-spam\n",
       "5571   ham                         Rofl. Its true to its name  sms-spam"
      ]
     },
     "execution_count": 52,
     "metadata": {},
     "output_type": "execute_result"
    }
   ],
   "source": [
    "sms_df.columns = ['label', 'text']\n",
    "sms_df['source'] = 'sms-spam'\n",
    "sms_df.tail()"
   ]
  },
  {
   "cell_type": "markdown",
   "id": "f6a42d13",
   "metadata": {},
   "source": [
    "### Youtube Datasets"
   ]
  },
  {
   "cell_type": "code",
   "execution_count": 56,
   "id": "44058199",
   "metadata": {},
   "outputs": [
    {
     "name": "stdout",
     "output_type": "stream",
     "text": [
      "/Users/XiaoboTang/Public/ml_api/datasets/spam-classifier/youtube-spam/Youtube03-LMFAO.csv\n",
      "/Users/XiaoboTang/Public/ml_api/datasets/spam-classifier/youtube-spam/Youtube04-Eminem.csv\n",
      "/Users/XiaoboTang/Public/ml_api/datasets/spam-classifier/youtube-spam/Youtube05-Shakira.csv\n",
      "/Users/XiaoboTang/Public/ml_api/datasets/spam-classifier/youtube-spam/Youtube02-KatyPerry.csv\n",
      "/Users/XiaoboTang/Public/ml_api/datasets/spam-classifier/youtube-spam/Youtube01-Psy.csv\n"
     ]
    }
   ],
   "source": [
    "my_dfs = []\n",
    "for path in YOUTUBE_SPAM_DIR.glob('*.csv'):\n",
    "    print(path)\n",
    "    raw_df = pd.read_csv(path)\n",
    "    raw_df.rename(columns={'CONTENT': 'text', 'CLASS': 'raw_label'}, inplace=True)\n",
    "    raw_df['label'] = raw_df['raw_label'].apply(lambda x: 'spam' if str(x) == '1' else 'ham')\n",
    "    raw_df['raw_source'] = str(path)\n",
    "    raw_df['source'] = 'youtube-spam'\n",
    "    df = raw_df.copy()[['label', 'text', 'source']]\n",
    "    my_dfs.append(df)\n",
    "    #print(df.head())\n",
    "    \n",
    "yt_df = pd.concat(my_dfs)"
   ]
  },
  {
   "cell_type": "code",
   "execution_count": 57,
   "id": "f7440aa3",
   "metadata": {},
   "outputs": [
    {
     "data": {
      "text/html": [
       "<div>\n",
       "<style scoped>\n",
       "    .dataframe tbody tr th:only-of-type {\n",
       "        vertical-align: middle;\n",
       "    }\n",
       "\n",
       "    .dataframe tbody tr th {\n",
       "        vertical-align: top;\n",
       "    }\n",
       "\n",
       "    .dataframe thead th {\n",
       "        text-align: right;\n",
       "    }\n",
       "</style>\n",
       "<table border=\"1\" class=\"dataframe\">\n",
       "  <thead>\n",
       "    <tr style=\"text-align: right;\">\n",
       "      <th></th>\n",
       "      <th>label</th>\n",
       "      <th>text</th>\n",
       "      <th>source</th>\n",
       "    </tr>\n",
       "  </thead>\n",
       "  <tbody>\n",
       "    <tr>\n",
       "      <th>0</th>\n",
       "      <td>ham</td>\n",
       "      <td>&lt;a href=\"http://www.youtube.com/watch?v=KQ6zr6...</td>\n",
       "      <td>youtube-spam</td>\n",
       "    </tr>\n",
       "    <tr>\n",
       "      <th>1</th>\n",
       "      <td>ham</td>\n",
       "      <td>wierd but funny﻿</td>\n",
       "      <td>youtube-spam</td>\n",
       "    </tr>\n",
       "    <tr>\n",
       "      <th>2</th>\n",
       "      <td>spam</td>\n",
       "      <td>Hey guys, I&amp;#39;m a human.&lt;br /&gt;&lt;br /&gt;&lt;br /&gt;Bu...</td>\n",
       "      <td>youtube-spam</td>\n",
       "    </tr>\n",
       "  </tbody>\n",
       "</table>\n",
       "</div>"
      ],
      "text/plain": [
       "  label                                               text        source\n",
       "0   ham  <a href=\"http://www.youtube.com/watch?v=KQ6zr6...  youtube-spam\n",
       "1   ham                                   wierd but funny﻿  youtube-spam\n",
       "2  spam  Hey guys, I&#39;m a human.<br /><br /><br />Bu...  youtube-spam"
      ]
     },
     "execution_count": 57,
     "metadata": {},
     "output_type": "execute_result"
    }
   ],
   "source": [
    "yt_df.head(3)"
   ]
  },
  {
   "cell_type": "markdown",
   "id": "d9ae1169",
   "metadata": {},
   "source": [
    "### Combine & Save Datasets"
   ]
  },
  {
   "cell_type": "code",
   "execution_count": 59,
   "id": "285ba44b",
   "metadata": {},
   "outputs": [
    {
     "data": {
      "text/html": [
       "<div>\n",
       "<style scoped>\n",
       "    .dataframe tbody tr th:only-of-type {\n",
       "        vertical-align: middle;\n",
       "    }\n",
       "\n",
       "    .dataframe tbody tr th {\n",
       "        vertical-align: top;\n",
       "    }\n",
       "\n",
       "    .dataframe thead th {\n",
       "        text-align: right;\n",
       "    }\n",
       "</style>\n",
       "<table border=\"1\" class=\"dataframe\">\n",
       "  <thead>\n",
       "    <tr style=\"text-align: right;\">\n",
       "      <th></th>\n",
       "      <th>label</th>\n",
       "      <th>text</th>\n",
       "      <th>source</th>\n",
       "    </tr>\n",
       "  </thead>\n",
       "  <tbody>\n",
       "    <tr>\n",
       "      <th>0</th>\n",
       "      <td>ham</td>\n",
       "      <td>Go until jurong point, crazy.. Available only ...</td>\n",
       "      <td>sms-spam</td>\n",
       "    </tr>\n",
       "    <tr>\n",
       "      <th>1</th>\n",
       "      <td>ham</td>\n",
       "      <td>Ok lar... Joking wif u oni...</td>\n",
       "      <td>sms-spam</td>\n",
       "    </tr>\n",
       "    <tr>\n",
       "      <th>2</th>\n",
       "      <td>spam</td>\n",
       "      <td>Free entry in 2 a wkly comp to win FA Cup fina...</td>\n",
       "      <td>sms-spam</td>\n",
       "    </tr>\n",
       "    <tr>\n",
       "      <th>3</th>\n",
       "      <td>ham</td>\n",
       "      <td>U dun say so early hor... U c already then say...</td>\n",
       "      <td>sms-spam</td>\n",
       "    </tr>\n",
       "    <tr>\n",
       "      <th>4</th>\n",
       "      <td>ham</td>\n",
       "      <td>Nah I don't think he goes to usf, he lives aro...</td>\n",
       "      <td>sms-spam</td>\n",
       "    </tr>\n",
       "  </tbody>\n",
       "</table>\n",
       "</div>"
      ],
      "text/plain": [
       "  label                                               text    source\n",
       "0   ham  Go until jurong point, crazy.. Available only ...  sms-spam\n",
       "1   ham                      Ok lar... Joking wif u oni...  sms-spam\n",
       "2  spam  Free entry in 2 a wkly comp to win FA Cup fina...  sms-spam\n",
       "3   ham  U dun say so early hor... U c already then say...  sms-spam\n",
       "4   ham  Nah I don't think he goes to usf, he lives aro...  sms-spam"
      ]
     },
     "execution_count": 59,
     "metadata": {},
     "output_type": "execute_result"
    }
   ],
   "source": [
    "df = pd.concat([sms_df, yt_df])\n",
    "df.head()"
   ]
  },
  {
   "cell_type": "code",
   "execution_count": 61,
   "id": "ac27d451",
   "metadata": {},
   "outputs": [],
   "source": [
    "df.to_csv(SPAM_DATASET_PATH, index=False)"
   ]
  }
 ],
 "metadata": {
  "kernelspec": {
   "display_name": "Python 3 (ipykernel)",
   "language": "python",
   "name": "python3"
  },
  "language_info": {
   "codemirror_mode": {
    "name": "ipython",
    "version": 3
   },
   "file_extension": ".py",
   "mimetype": "text/x-python",
   "name": "python",
   "nbconvert_exporter": "python",
   "pygments_lexer": "ipython3",
   "version": "3.9.7"
  }
 },
 "nbformat": 4,
 "nbformat_minor": 5
}
