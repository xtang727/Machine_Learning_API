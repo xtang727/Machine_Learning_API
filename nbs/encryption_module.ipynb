{
 "cells": [
  {
   "cell_type": "code",
   "execution_count": 1,
   "id": "a45cb0e1",
   "metadata": {},
   "outputs": [
    {
     "data": {
      "text/plain": [
       "True"
      ]
     },
     "execution_count": 1,
     "metadata": {},
     "output_type": "execute_result"
    }
   ],
   "source": [
    "import pathlib\n",
    "import os\n",
    "from cryptography.fernet import Fernet\n",
    "from dotenv import load_dotenv\n",
    "load_dotenv()"
   ]
  },
  {
   "cell_type": "code",
   "execution_count": 2,
   "id": "78ccae3c",
   "metadata": {},
   "outputs": [],
   "source": [
    "def generate_key():\n",
    "    return Fernet.generate_key().decode('UTF-8')\n",
    "#generate_key()"
   ]
  },
  {
   "cell_type": "code",
   "execution_count": 3,
   "id": "0223b33d",
   "metadata": {},
   "outputs": [
    {
     "name": "stdout",
     "output_type": "stream",
     "text": [
      "hs4DSuXpSvIC_TqVp0U3DSUrzJl2iqudUhh2sxWG6qk=\n"
     ]
    }
   ],
   "source": [
    "ENCRYPTION_KEY = os.environ.get('ENCRYPTION_KEY') # search in kernel environment .env where python venv located"
   ]
  },
  {
   "cell_type": "code",
   "execution_count": 5,
   "id": "825b6bbb",
   "metadata": {},
   "outputs": [],
   "source": [
    "def encrypt_dir(input_dir, output_dir):\n",
    "    key = ENCRYPTION_KEY\n",
    "    if not key:\n",
    "        return Exception('Encryption key not found')\n",
    "    fer = Fernet(key)\n",
    "    input_dir = pathlib.Path(input_dir)\n",
    "    output_dir = pathlib.Path(output_dir)\n",
    "    output_dir.mkdir(exist_ok=True, parents=True)\n",
    "    for path in input_dir.glob('*'):\n",
    "        _path_bytes =  path.read_bytes() # open(filepath, 'rb')\n",
    "        data = fer.encrypt(_path_bytes)\n",
    "        rel_path = path.relative_to(input_dir)\n",
    "        dest_path = output_dir / rel_path\n",
    "        dest_path.write_bytes(data)"
   ]
  },
  {
   "cell_type": "code",
   "execution_count": 7,
   "id": "36fc12a5",
   "metadata": {},
   "outputs": [],
   "source": [
    "def decrypt_dir(input_dir, output_dir):\n",
    "    key = ENCRYPTION_KEY\n",
    "    if not key:\n",
    "        return Exception('Encryption key not found')\n",
    "    fer = Fernet(key)\n",
    "    input_dir = pathlib.Path(input_dir)\n",
    "    output_dir = pathlib.Path(output_dir)\n",
    "    output_dir.mkdir(exist_ok=True, parents=True)\n",
    "    for path in input_dir.glob('*'):\n",
    "        _path_bytes =  path.read_bytes() # open(filepath, 'rb')\n",
    "        data = fer.decrypt(_path_bytes)\n",
    "        rel_path = path.relative_to(input_dir)\n",
    "        dest_path = output_dir / rel_path\n",
    "        dest_path.write_bytes(data)"
   ]
  }
 ],
 "metadata": {
  "kernelspec": {
   "display_name": "Python 3 (ipykernel)",
   "language": "python",
   "name": "python3"
  },
  "language_info": {
   "codemirror_mode": {
    "name": "ipython",
    "version": 3
   },
   "file_extension": ".py",
   "mimetype": "text/x-python",
   "name": "python",
   "nbconvert_exporter": "python",
   "pygments_lexer": "ipython3",
   "version": "3.9.7"
  }
 },
 "nbformat": 4,
 "nbformat_minor": 5
}
